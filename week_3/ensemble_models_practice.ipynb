{
 "cells": [
  {
   "cell_type": "markdown",
   "metadata": {},
   "source": [
    "# Ансамблевые модели"
   ]
  },
  {
   "cell_type": "markdown",
   "metadata": {},
   "source": [
    "## Задача классификации "
   ]
  },
  {
   "cell_type": "markdown",
   "metadata": {},
   "source": [
    "В этом практическом задании вы научитесь работать с ансамблевыми моделями. Мы начнем с задачи классификации итальянского вина на предмет его пренадлежности к одному из трех видов. Загрузите датасет `Wine Data Database` с помощью функции `load_wine` из модуля `sklearn.datasets`."
   ]
  },
  {
   "cell_type": "code",
   "execution_count": 1,
   "metadata": {},
   "outputs": [],
   "source": [
    "from sklearn.datasets import load_wine\n",
    "\n",
    "X, y = load_wine(return_X_y=True)"
   ]
  },
  {
   "cell_type": "markdown",
   "metadata": {},
   "source": [
    "Модель случайного леса для классификации представлена классом `RandomForestClassifier` из модуля `sklearn.ensemble`. Конструктор этого класса содержит аргумент `n_estimators`, который соответствует колличеству базовых алгоритмов в случайном лесе. Целью этого задания будет настройка этого параметра. Сравните модели случайных лесов с различным числом базовых алгоритмов `{1, 5, 10, 20}`. Что происходит с качеством случайного леса на тестовых данных при увеличении этого числа? Ответом на это задание `answer1` является лучшая оценка качества модели, округленная до трех знаков после запятой. Используйте `accuracy` как метрику качества и скользящий контроль `cross_val_score` как метод оценки качества модели. Установите параметр `cv = StratifiedKFold(4)`. Возьмите среднее значение оценки качества. Для каждой из моделей случайного леса используете `random_state=42` при создании нового экземпляра."
   ]
  },
  {
   "cell_type": "markdown",
   "metadata": {},
   "source": [
    "### *РЕШЕНИЕ*"
   ]
  },
  {
   "cell_type": "code",
   "execution_count": 2,
   "metadata": {},
   "outputs": [
    {
     "name": "stdout",
     "output_type": "stream",
     "text": [
      "Accuracy: 0.926; Esimator: 1; CV Score: 0.826\n",
      "Accuracy: 0.963; Esimator: 5; CV Score: 0.938\n",
      "Accuracy: 0.963; Esimator: 10; CV Score: 0.966\n",
      "Accuracy: 0.981; Esimator: 20; CV Score: 0.978\n"
     ]
    }
   ],
   "source": [
    "from sklearn.ensemble import RandomForestClassifier\n",
    "from sklearn.model_selection import cross_val_score, StratifiedKFold\n",
    "from sklearn.model_selection import train_test_split\n",
    "from sklearn.metrics import accuracy_score\n",
    "\n",
    "x_train, x_test, y_train, y_test = train_test_split(X, y, test_size=0.3, stratify=y, random_state=42)\n",
    "estimators = [1, 5, 10, 20]\n",
    "for est in estimators:\n",
    "    rf = RandomForestClassifier(n_estimators=est, random_state=42)\n",
    "    model_rf = rf.fit(x_train, y_train)\n",
    "    \n",
    "    predictions = model_rf.predict(x_test)\n",
    "    accuracy = accuracy_score(y_test, predictions)\n",
    "    \n",
    "    cv = StratifiedKFold(n_splits=4)\n",
    "    cv_score = cross_val_score(model_rf, X, y, scoring='accuracy', cv=cv)\n",
    "    print('Accuracy: {:.3f};'.format(accuracy), 'Esimator: {};'.format(est), 'CV Score: {:.3f}'.format(cv_score.mean()))"
   ]
  },
  {
   "cell_type": "markdown",
   "metadata": {},
   "source": [
    "Далее сравните модель градиентного бустинга `GradientBoostingClassifier` из `sklearn.ensemble` с логистической регрессией `LogisticRegression` из `sklearn.linear_model` на этой выборке. Используете параметр `random_state=42` при создании экземпляров классов. Какая из моделей работает лучше? Приведите лучшую оценку, округленную до трех знаков после запятой, в качестве ответа `answer2` на это задание. Какие выводы из этого можно сделать?"
   ]
  },
  {
   "cell_type": "markdown",
   "metadata": {},
   "source": [
    "### *РЕШЕНИЕ*"
   ]
  },
  {
   "cell_type": "code",
   "execution_count": 3,
   "metadata": {},
   "outputs": [
    {
     "name": "stdout",
     "output_type": "stream",
     "text": [
      "Accuracy GB: 0.611 Accuracy LR: 0.981\n",
      "Accuracy GB: 0.907 Accuracy LR: 0.981\n",
      "Accuracy GB: 0.926 Accuracy LR: 0.981\n",
      "Accuracy GB: 0.944 Accuracy LR: 0.981\n"
     ]
    }
   ],
   "source": [
    "from sklearn.ensemble import GradientBoostingClassifier\n",
    "from sklearn.linear_model import LogisticRegression\n",
    "import warnings\n",
    "warnings.filterwarnings(\"ignore\", category=FutureWarning)\n",
    "\n",
    "for est in estimators:\n",
    "    gb = GradientBoostingClassifier(n_estimators=est, random_state=42)\n",
    "    lr = LogisticRegression(random_state=42)\n",
    "    \n",
    "    model_gb = gb.fit(x_train, y_train)\n",
    "    model_lr = lr.fit(x_train, y_train)\n",
    "    \n",
    "    predictions_gb = model_gb.predict(x_test)\n",
    "    predictions_lr = model_lr.predict(x_test)\n",
    "    \n",
    "    accuracy_gb = accuracy_score(y_test, predictions_gb)\n",
    "    accuracy_lr = accuracy_score(y_test, predictions_lr)\n",
    "    \n",
    "    print('Accuracy GB: {:.3f}'.format(accuracy_gb), 'Accuracy LR: {:.3f}'.format(accuracy_lr))"
   ]
  },
  {
   "cell_type": "markdown",
   "metadata": {},
   "source": [
    "## Задача регрессии"
   ]
  },
  {
   "cell_type": "markdown",
   "metadata": {},
   "source": [
    "Загрузите уже известную вам выборку `Boston House Prices` и разделите ее случайным образом на тренировочную и тестовую выборку. Для этого используете функцию `train_test_split` с параметрами `random_state=54` и `test_size=0.33`. Мы будем сравнивать 4 модели: `RandomForestRegressor`, `GradientBoostingRegressor` из `sklearn.ensemble`, а так же Гребневую регрессию и ЛАССО (`Ridge`, `Lasso` из `sklearn.linear_model`). Обучите каждую модель на тренировочной выборке с параметром `random_state=42` в конструкторе. Какая из моделей показывает наименьшее значение среднеквадратической ошибки на тестовых данных? В качестве ответа `answer3` приведите это значение, округленное до двух цифр после запятой."
   ]
  },
  {
   "cell_type": "markdown",
   "metadata": {},
   "source": [
    "### *РЕШЕНИЕ*"
   ]
  },
  {
   "cell_type": "code",
   "execution_count": 4,
   "metadata": {},
   "outputs": [
    {
     "name": "stdout",
     "output_type": "stream",
     "text": [
      "MSE RM: 10.28\n",
      "MSE GB: 8.51\n",
      "MSE Ridge: 23.80\n",
      "MSE Lasso: 26.92\n"
     ]
    }
   ],
   "source": [
    "import numpy as np\n",
    "from sklearn.ensemble import RandomForestRegressor, GradientBoostingRegressor\n",
    "from sklearn.linear_model import Ridge, Lasso\n",
    "from sklearn.datasets import load_boston\n",
    "from sklearn.model_selection import train_test_split\n",
    "from sklearn.metrics import mean_squared_error\n",
    "\n",
    "boston = load_boston()\n",
    "x_train, x_test, y_train, y_test = train_test_split(boston.data, boston.target, test_size=0.33, random_state=54)\n",
    "\n",
    "rm = RandomForestRegressor(random_state=42)\n",
    "gb = GradientBoostingRegressor(n_estimators=100, random_state=42)\n",
    "ridge = Ridge(random_state=42)\n",
    "lasso = Lasso(random_state=42)\n",
    "\n",
    "model_rm = rm.fit(x_train, y_train)\n",
    "model_gb = gb.fit(x_train, y_train)\n",
    "model_ridge = ridge.fit(x_train, y_train)\n",
    "model_lasso = lasso.fit(x_train, y_train)\n",
    "\n",
    "predictions_rm = model_rm.predict(x_test)\n",
    "predictions_gb = model_gb.predict(x_test)\n",
    "predictions_ridge = model_ridge.predict(x_test)\n",
    "predictions_lasso = model_lasso.predict(x_test)\n",
    "\n",
    "mse_rm = mean_squared_error(y_test, predictions_rm)\n",
    "mse_gb = mean_squared_error(y_test, predictions_gb)\n",
    "mse_ridge = mean_squared_error(y_test, predictions_ridge)\n",
    "mse_lasso = mean_squared_error(y_test, predictions_lasso)\n",
    "\n",
    "print('MSE RM: {:.2f}'.format(mse_rm))\n",
    "print('MSE GB: {:.2f}'.format(mse_gb))\n",
    "print('MSE Ridge: {:.2f}'.format(mse_ridge))\n",
    "print('MSE Lasso: {:.2f}'.format(mse_lasso))"
   ]
  }
 ],
 "metadata": {
  "kernelspec": {
   "display_name": "Python 3",
   "language": "python",
   "name": "python3"
  },
  "language_info": {
   "codemirror_mode": {
    "name": "ipython",
    "version": 3
   },
   "file_extension": ".py",
   "mimetype": "text/x-python",
   "name": "python",
   "nbconvert_exporter": "python",
   "pygments_lexer": "ipython3",
   "version": "3.7.3"
  }
 },
 "nbformat": 4,
 "nbformat_minor": 1
}

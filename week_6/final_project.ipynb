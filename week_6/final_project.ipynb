{
 "cells": [
  {
   "cell_type": "code",
   "execution_count": 27,
   "metadata": {},
   "outputs": [],
   "source": [
    "import tensorflow as tf\n",
    "import numpy as np\n",
    "import pandas as pd\n",
    "from matplotlib import pyplot as plt"
   ]
  },
  {
   "cell_type": "code",
   "execution_count": 2,
   "metadata": {},
   "outputs": [],
   "source": [
    "from tensorflow import set_random_seed\n",
    "set_random_seed(42)\n",
    "np.random.seed(42)"
   ]
  },
  {
   "cell_type": "code",
   "execution_count": 3,
   "metadata": {},
   "outputs": [],
   "source": [
    "from sklearn.model_selection import train_test_split\n",
    "from tensorflow.python import keras\n",
    "from tensorflow.python.keras.models import Sequential\n",
    "from tensorflow.python.keras.layers import Dense, Flatten, Conv2D, Dropout\n",
    "from tensorflow.python.keras.callbacks import ModelCheckpoint"
   ]
  },
  {
   "cell_type": "code",
   "execution_count": 4,
   "metadata": {},
   "outputs": [],
   "source": [
    "train = pd.read_csv('fashion-mnist_train.csv')"
   ]
  },
  {
   "cell_type": "code",
   "execution_count": 5,
   "metadata": {},
   "outputs": [],
   "source": [
    "test = pd.read_csv('fashion-mnist_test.csv')"
   ]
  },
  {
   "cell_type": "code",
   "execution_count": 6,
   "metadata": {},
   "outputs": [
    {
     "data": {
      "text/plain": [
       "((60000, 785), (10000, 785))"
      ]
     },
     "execution_count": 6,
     "metadata": {},
     "output_type": "execute_result"
    }
   ],
   "source": [
    "train.shape, test.shape"
   ]
  },
  {
   "cell_type": "code",
   "execution_count": 7,
   "metadata": {},
   "outputs": [],
   "source": [
    "x_train = train.drop('label', axis=1)/255\n",
    "y_train = train.label\n",
    "x_test = test.drop('label', axis=1)/255\n",
    "y_test = test.label"
   ]
  },
  {
   "cell_type": "code",
   "execution_count": 8,
   "metadata": {},
   "outputs": [],
   "source": [
    "from sklearn.preprocessing import OneHotEncoder\n",
    "enc = OneHotEncoder()"
   ]
  },
  {
   "cell_type": "code",
   "execution_count": 9,
   "metadata": {},
   "outputs": [],
   "source": [
    "y_train_labels = enc.fit_transform(np.reshape(np.array(y_train), (-1,1))).toarray()\n",
    "y_test_labels = enc.transform(np.reshape(np.array(y_test), (-1,1))).toarray()"
   ]
  },
  {
   "cell_type": "code",
   "execution_count": 10,
   "metadata": {},
   "outputs": [],
   "source": [
    "x_TRAIN, x_VALID, y_TRAIN, y_VALID = train_test_split(x_train, y_train_labels, test_size = 0.2, random_state=42)"
   ]
  },
  {
   "cell_type": "markdown",
   "metadata": {},
   "source": [
    "### 1. Logistic regression"
   ]
  },
  {
   "cell_type": "code",
   "execution_count": 11,
   "metadata": {},
   "outputs": [
    {
     "name": "stdout",
     "output_type": "stream",
     "text": [
      "WARNING:tensorflow:From /Users/nvkrasnitskiy/opt/anaconda3/lib/python3.7/site-packages/tensorflow/python/ops/init_ops.py:1251: calling VarianceScaling.__init__ (from tensorflow.python.ops.init_ops) with dtype is deprecated and will be removed in a future version.\n",
      "Instructions for updating:\n",
      "Call initializer instance with the dtype argument instead of passing it to the constructor\n",
      "Train on 48000 samples, validate on 12000 samples\n",
      "Epoch 1/20\n",
      "48000/48000 [==============================] - 2s 35us/sample - loss: 1.6856 - acc: 0.5036 - val_loss: 1.3423 - val_acc: 0.6408\n",
      "Epoch 2/20\n",
      "48000/48000 [==============================] - 1s 30us/sample - loss: 1.2006 - acc: 0.6622 - val_loss: 1.0917 - val_acc: 0.6812\n",
      "Epoch 3/20\n",
      "48000/48000 [==============================] - 1s 30us/sample - loss: 1.0281 - acc: 0.6885 - val_loss: 0.9738 - val_acc: 0.7028\n",
      "Epoch 4/20\n",
      "48000/48000 [==============================] - 1s 30us/sample - loss: 0.9360 - acc: 0.7084 - val_loss: 0.9023 - val_acc: 0.7177\n",
      "Epoch 5/20\n",
      "48000/48000 [==============================] - 1s 30us/sample - loss: 0.8766 - acc: 0.7219 - val_loss: 0.8538 - val_acc: 0.7278\n",
      "Epoch 6/20\n",
      "48000/48000 [==============================] - 1s 30us/sample - loss: 0.8339 - acc: 0.7363 - val_loss: 0.8166 - val_acc: 0.7414\n",
      "Epoch 7/20\n",
      "48000/48000 [==============================] - 1s 30us/sample - loss: 0.8013 - acc: 0.7460 - val_loss: 0.7881 - val_acc: 0.7492\n",
      "Epoch 8/20\n",
      "48000/48000 [==============================] - 1s 30us/sample - loss: 0.7750 - acc: 0.7548 - val_loss: 0.7645 - val_acc: 0.7565\n",
      "Epoch 9/20\n",
      "48000/48000 [==============================] - 1s 30us/sample - loss: 0.7533 - acc: 0.7616 - val_loss: 0.7449 - val_acc: 0.7637\n",
      "Epoch 10/20\n",
      "48000/48000 [==============================] - 1s 30us/sample - loss: 0.7349 - acc: 0.7685 - val_loss: 0.7279 - val_acc: 0.7681\n",
      "Epoch 11/20\n",
      "48000/48000 [==============================] - 1s 30us/sample - loss: 0.7190 - acc: 0.7729 - val_loss: 0.7133 - val_acc: 0.7705\n",
      "Epoch 12/20\n",
      "48000/48000 [==============================] - 1s 30us/sample - loss: 0.7051 - acc: 0.7774 - val_loss: 0.7004 - val_acc: 0.7747\n",
      "Epoch 13/20\n",
      "48000/48000 [==============================] - 1s 30us/sample - loss: 0.6929 - acc: 0.7800 - val_loss: 0.6891 - val_acc: 0.7764\n",
      "Epoch 14/20\n",
      "48000/48000 [==============================] - 1s 30us/sample - loss: 0.6818 - acc: 0.7835 - val_loss: 0.6788 - val_acc: 0.7788\n",
      "Epoch 15/20\n",
      "48000/48000 [==============================] - 1s 30us/sample - loss: 0.6719 - acc: 0.7870 - val_loss: 0.6697 - val_acc: 0.7828\n",
      "Epoch 16/20\n",
      "48000/48000 [==============================] - 1s 30us/sample - loss: 0.6630 - acc: 0.7892 - val_loss: 0.6613 - val_acc: 0.7844\n",
      "Epoch 17/20\n",
      "48000/48000 [==============================] - 1s 30us/sample - loss: 0.6547 - acc: 0.7926 - val_loss: 0.6534 - val_acc: 0.7869\n",
      "Epoch 18/20\n",
      "48000/48000 [==============================] - 1s 30us/sample - loss: 0.6472 - acc: 0.7944 - val_loss: 0.6463 - val_acc: 0.7892\n",
      "Epoch 19/20\n",
      "48000/48000 [==============================] - 1s 30us/sample - loss: 0.6402 - acc: 0.7964 - val_loss: 0.6398 - val_acc: 0.7905\n",
      "Epoch 20/20\n",
      "48000/48000 [==============================] - 1s 30us/sample - loss: 0.6338 - acc: 0.7985 - val_loss: 0.6336 - val_acc: 0.7924\n"
     ]
    }
   ],
   "source": [
    "log_checkpoint = ModelCheckpoint('log_model.h5', save_best_only=True, save_weights_only=True, mode='max', monitor='val_acc')\n",
    "model_log = Sequential()\n",
    "model_log.add(Dense(10, input_shape=(784,), activation='softmax'))\n",
    "model_log.compile(loss='categorical_crossentropy', optimizer='sgd', metrics=['accuracy'])        \n",
    "history = model_log.fit(x_TRAIN.values, y_TRAIN, batch_size=500, validation_data=(x_VALID.values, y_VALID),\n",
    "                       callbacks=[log_checkpoint], epochs=20)"
   ]
  },
  {
   "cell_type": "code",
   "execution_count": 12,
   "metadata": {},
   "outputs": [
    {
     "data": {
      "text/plain": [
       "<matplotlib.legend.Legend at 0x138fe5c50>"
      ]
     },
     "execution_count": 12,
     "metadata": {},
     "output_type": "execute_result"
    },
    {
     "data": {
      "image/png": "[encoded data removed]",
      "text/plain": [
       "<Figure size 432x288 with 1 Axes>"
      ]
     },
     "metadata": {
      "needs_background": "light"
     },
     "output_type": "display_data"
    }
   ],
   "source": [
    "plt.plot(history.history['acc'])\n",
    "plt.plot(history.history['val_acc'])\n",
    "plt.ylabel('Accuracy')\n",
    "plt.xlabel('Epoch')\n",
    "plt.legend(['Train', 'Validation'], loc='upper left')"
   ]
  },
  {
   "cell_type": "code",
   "execution_count": 13,
   "metadata": {},
   "outputs": [
    {
     "name": "stdout",
     "output_type": "stream",
     "text": [
      "10000/10000 [==============================] - 0s 41us/sample - loss: 0.6359 - acc: 0.8000\n",
      "Logistic regression accuracy: 0.800\n"
     ]
    }
   ],
   "source": [
    "model_log.load_weights('log_model.h5')\n",
    "_, score = model_log.evaluate(x_test.values, y_test_labels)\n",
    "print(\"Logistic regression accuracy: {0:.3f}\".format(score))"
   ]
  },
  {
   "cell_type": "markdown",
   "metadata": {},
   "source": [
    "### 2. Fully connected neural network"
   ]
  },
  {
   "cell_type": "code",
   "execution_count": 14,
   "metadata": {},
   "outputs": [
    {
     "name": "stdout",
     "output_type": "stream",
     "text": [
      "Train on 48000 samples, validate on 12000 samples\n",
      "Epoch 1/20\n",
      "48000/48000 [==============================] - 10s 218us/sample - loss: 2.3233 - acc: 0.1196 - val_loss: 2.2458 - val_acc: 0.1538\n",
      "Epoch 2/20\n",
      "48000/48000 [==============================] - 10s 201us/sample - loss: 2.2580 - acc: 0.1567 - val_loss: 2.1812 - val_acc: 0.2165\n",
      "Epoch 3/20\n",
      "48000/48000 [==============================] - 10s 200us/sample - loss: 2.1970 - acc: 0.1894 - val_loss: 2.1191 - val_acc: 0.2913\n",
      "Epoch 4/20\n",
      "48000/48000 [==============================] - 10s 203us/sample - loss: 2.1378 - acc: 0.2339 - val_loss: 2.0580 - val_acc: 0.3473\n",
      "Epoch 5/20\n",
      "48000/48000 [==============================] - 10s 202us/sample - loss: 2.0808 - acc: 0.2764 - val_loss: 1.9976 - val_acc: 0.4296\n",
      "Epoch 6/20\n",
      "48000/48000 [==============================] - 10s 201us/sample - loss: 2.0221 - acc: 0.3329 - val_loss: 1.9379 - val_acc: 0.5014\n",
      "Epoch 7/20\n",
      "48000/48000 [==============================] - 10s 201us/sample - loss: 1.9655 - acc: 0.3802 - val_loss: 1.8789 - val_acc: 0.5456\n",
      "Epoch 8/20\n",
      "48000/48000 [==============================] - 10s 201us/sample - loss: 1.9123 - acc: 0.4260 - val_loss: 1.8208 - val_acc: 0.5745\n",
      "Epoch 9/20\n",
      "48000/48000 [==============================] - 10s 201us/sample - loss: 1.8565 - acc: 0.4639 - val_loss: 1.7640 - val_acc: 0.5984\n",
      "Epoch 10/20\n",
      "48000/48000 [==============================] - 10s 200us/sample - loss: 1.8027 - acc: 0.4953 - val_loss: 1.7088 - val_acc: 0.6120\n",
      "Epoch 11/20\n",
      "48000/48000 [==============================] - 10s 201us/sample - loss: 1.7524 - acc: 0.5208 - val_loss: 1.6553 - val_acc: 0.6237\n",
      "Epoch 12/20\n",
      "48000/48000 [==============================] - 10s 201us/sample - loss: 1.7016 - acc: 0.5395 - val_loss: 1.6038 - val_acc: 0.6338\n",
      "Epoch 13/20\n",
      "48000/48000 [==============================] - 10s 200us/sample - loss: 1.6527 - acc: 0.5559 - val_loss: 1.5544 - val_acc: 0.6410\n",
      "Epoch 14/20\n",
      "48000/48000 [==============================] - 10s 201us/sample - loss: 1.6068 - acc: 0.5701 - val_loss: 1.5072 - val_acc: 0.6458\n",
      "Epoch 15/20\n",
      "48000/48000 [==============================] - 10s 202us/sample - loss: 1.5607 - acc: 0.5809 - val_loss: 1.4623 - val_acc: 0.6525\n",
      "Epoch 16/20\n",
      "48000/48000 [==============================] - 10s 202us/sample - loss: 1.5191 - acc: 0.5886 - val_loss: 1.4199 - val_acc: 0.6565\n",
      "Epoch 17/20\n",
      "48000/48000 [==============================] - 10s 210us/sample - loss: 1.4789 - acc: 0.5944 - val_loss: 1.3799 - val_acc: 0.6609\n",
      "Epoch 18/20\n",
      "48000/48000 [==============================] - 11s 229us/sample - loss: 1.4409 - acc: 0.6057 - val_loss: 1.3422 - val_acc: 0.6646\n",
      "Epoch 19/20\n",
      "48000/48000 [==============================] - 10s 206us/sample - loss: 1.4058 - acc: 0.6076 - val_loss: 1.3067 - val_acc: 0.6672\n",
      "Epoch 20/20\n",
      "48000/48000 [==============================] - 10s 206us/sample - loss: 1.3728 - acc: 0.6150 - val_loss: 1.2734 - val_acc: 0.6714\n"
     ]
    }
   ],
   "source": [
    "nn_checkpoint = ModelCheckpoint('nn_model.h5', save_best_only=True, save_weights_only=True, mode='max', monitor='val_acc')\n",
    "model_nn = Sequential()\n",
    "model_nn.add(Dense(512, activation='relu', input_shape=(784,)))\n",
    "model_nn.add(Dropout(0.2))\n",
    "model_nn.add(Dense(512, activation='relu'))\n",
    "model_nn.add(Dropout(0.2))\n",
    "model_nn.add(Dense(10, activation='softmax'))\n",
    "\n",
    "model_nn.compile(optimizer='adadelta', loss='categorical_crossentropy', metrics=['accuracy'])\n",
    "\n",
    "history_nn = model_nn.fit(x_TRAIN.values, y_TRAIN, batch_size=500, validation_data=(x_VALID.values, y_VALID),\n",
    "                       callbacks=[nn_checkpoint], epochs=20)"
   ]
  },
  {
   "cell_type": "code",
   "execution_count": 15,
   "metadata": {},
   "outputs": [
    {
     "data": {
      "text/plain": [
       "<matplotlib.legend.Legend at 0x1a599ff390>"
      ]
     },
     "execution_count": 15,
     "metadata": {},
     "output_type": "execute_result"
    },
    {
     "data": {
      "image/png": "[encoded data removed]",
      "text/plain": [
       "<Figure size 432x288 with 1 Axes>"
      ]
     },
     "metadata": {
      "needs_background": "light"
     },
     "output_type": "display_data"
    }
   ],
   "source": [
    "plt.plot(history_nn.history['acc'])\n",
    "plt.plot(history_nn.history['val_acc'])\n",
    "plt.ylabel('Accuracy')\n",
    "plt.xlabel('Epoch')\n",
    "plt.legend(['Train', 'Validation'], loc='upper left')"
   ]
  },
  {
   "cell_type": "code",
   "execution_count": 16,
   "metadata": {},
   "outputs": [
    {
     "name": "stdout",
     "output_type": "stream",
     "text": [
      "10000/10000 [==============================] - 1s 85us/sample - loss: 1.2734 - acc: 0.6740\n",
      "Fully connected neural network accuracy: 0.674\n"
     ]
    }
   ],
   "source": [
    "model_nn.load_weights('nn_model.h5')\n",
    "_, score = model_nn.evaluate(x_test.values, y_test_labels)\n",
    "print(\"Fully connected neural network accuracy: {0:.3f}\".format(score))"
   ]
  },
  {
   "cell_type": "markdown",
   "metadata": {},
   "source": [
    "### 3. Convolutional neural network"
   ]
  },
  {
   "cell_type": "code",
   "execution_count": 17,
   "metadata": {},
   "outputs": [],
   "source": [
    "x_TRAIN_reshaped = x_TRAIN.values.reshape(48000, 28, 28, 1)\n",
    "x_VALID_reshaped = x_VALID.values.reshape(12000, 28, 28, 1)\n",
    "x_TEST_reshaped = x_test.values.reshape(10000, 28, 28, 1)"
   ]
  },
  {
   "cell_type": "code",
   "execution_count": 18,
   "metadata": {},
   "outputs": [
    {
     "name": "stdout",
     "output_type": "stream",
     "text": [
      "Train on 48000 samples, validate on 12000 samples\n",
      "Epoch 1/10\n",
      "48000/48000 [==============================] - 34s 701us/sample - loss: 2.3001 - acc: 0.1059 - val_loss: 2.2963 - val_acc: 0.1051\n",
      "Epoch 2/10\n",
      "48000/48000 [==============================] - 33s 681us/sample - loss: 2.2924 - acc: 0.1079 - val_loss: 2.2882 - val_acc: 0.1072\n",
      "Epoch 3/10\n",
      "48000/48000 [==============================] - 33s 683us/sample - loss: 2.2841 - acc: 0.1114 - val_loss: 2.2796 - val_acc: 0.1117\n",
      "Epoch 4/10\n",
      "48000/48000 [==============================] - 33s 681us/sample - loss: 2.2752 - acc: 0.1170 - val_loss: 2.2702 - val_acc: 0.1181\n",
      "Epoch 5/10\n",
      "48000/48000 [==============================] - 33s 682us/sample - loss: 2.2656 - acc: 0.1244 - val_loss: 2.2603 - val_acc: 0.1290\n",
      "Epoch 6/10\n",
      "48000/48000 [==============================] - 33s 682us/sample - loss: 2.2557 - acc: 0.1362 - val_loss: 2.2503 - val_acc: 0.1451\n",
      "Epoch 7/10\n",
      "48000/48000 [==============================] - 33s 684us/sample - loss: 2.2457 - acc: 0.1531 - val_loss: 2.2401 - val_acc: 0.1656\n",
      "Epoch 8/10\n",
      "48000/48000 [==============================] - 33s 694us/sample - loss: 2.2356 - acc: 0.1715 - val_loss: 2.2298 - val_acc: 0.1856\n",
      "Epoch 9/10\n",
      "48000/48000 [==============================] - 33s 687us/sample - loss: 2.2250 - acc: 0.1903 - val_loss: 2.2188 - val_acc: 0.2052\n",
      "Epoch 10/10\n",
      "48000/48000 [==============================] - 33s 687us/sample - loss: 2.2136 - acc: 0.2087 - val_loss: 2.2068 - val_acc: 0.2234\n"
     ]
    }
   ],
   "source": [
    "cnn_1_checkpoint = ModelCheckpoint('cnn1_model.h5', save_best_only=True, save_weights_only=True, mode='max', monitor='val_acc')\n",
    "model_cnn_1 = tf.keras.models.Sequential()\n",
    "model_cnn_1.add(tf.keras.layers.Convolution2D(32, (3,3), input_shape=(28, 28, 1), activation='relu'))\n",
    "model_cnn_1.add(tf.keras.layers.MaxPooling2D((2,2)))\n",
    "model_cnn_1.add(tf.keras.layers.Convolution2D(64, (3,3), activation='relu'))\n",
    "model_cnn_1.add(tf.keras.layers.MaxPooling2D((2,2)))\n",
    "model_cnn_1.add(tf.keras.layers.Flatten())\n",
    "model_cnn_1.add(tf.keras.layers.Dense(64, activation='relu'))\n",
    "model_cnn_1.add(tf.keras.layers.Dense(10, activation='softmax'))\n",
    "\n",
    "model_cnn_1.compile(optimizer='adadelta', loss='categorical_crossentropy', metrics=['accuracy'])\n",
    "\n",
    "history_cnn1 = model_cnn_1.fit(x_TRAIN_reshaped, y_TRAIN, batch_size=500, validation_data=(x_VALID_reshaped, y_VALID),\n",
    "                       callbacks=[cnn_1_checkpoint], epochs=10)"
   ]
  },
  {
   "cell_type": "code",
   "execution_count": 19,
   "metadata": {},
   "outputs": [
    {
     "data": {
      "text/plain": [
       "<matplotlib.legend.Legend at 0x1a82c57cd0>"
      ]
     },
     "execution_count": 19,
     "metadata": {},
     "output_type": "execute_result"
    },
    {
     "data": {
      "image/png": "[encoded data removed]",
      "text/plain": [
       "<Figure size 432x288 with 1 Axes>"
      ]
     },
     "metadata": {
      "needs_background": "light"
     },
     "output_type": "display_data"
    }
   ],
   "source": [
    "plt.plot(history_cnn1.history['acc'])\n",
    "plt.plot(history_cnn1.history['val_acc'])\n",
    "plt.ylabel('Accuracy')\n",
    "plt.xlabel('Epoch')\n",
    "plt.legend(['Train', 'Validation'], loc='upper left')"
   ]
  },
  {
   "cell_type": "code",
   "execution_count": 20,
   "metadata": {},
   "outputs": [
    {
     "name": "stdout",
     "output_type": "stream",
     "text": [
      "10000/10000 [==============================] - 4s 357us/sample - loss: 2.2064 - acc: 0.2193\n",
      "Convolutional neural network accuracy: 0.219\n"
     ]
    }
   ],
   "source": [
    "model_cnn_1.load_weights('cnn1_model.h5')\n",
    "_, score = model_cnn_1.evaluate(x_TEST_reshaped, y_test_labels)\n",
    "print(\"Convolutional neural network accuracy: {0:.3f}\".format(score))"
   ]
  },
  {
   "cell_type": "markdown",
   "metadata": {},
   "source": [
    "### Add additional layers"
   ]
  },
  {
   "cell_type": "code",
   "execution_count": 21,
   "metadata": {},
   "outputs": [
    {
     "name": "stdout",
     "output_type": "stream",
     "text": [
      "Train on 48000 samples, validate on 12000 samples\n",
      "Epoch 1/10\n",
      "48000/48000 [==============================] - 59s 1ms/sample - loss: 2.2999 - acc: 0.1535 - val_loss: 2.2982 - val_acc: 0.1524\n",
      "Epoch 2/10\n",
      "48000/48000 [==============================] - 58s 1ms/sample - loss: 2.2968 - acc: 0.1602 - val_loss: 2.2952 - val_acc: 0.1597\n",
      "Epoch 3/10\n",
      "48000/48000 [==============================] - 59s 1ms/sample - loss: 2.2938 - acc: 0.1676 - val_loss: 2.2922 - val_acc: 0.1675\n",
      "Epoch 4/10\n",
      "48000/48000 [==============================] - 58s 1ms/sample - loss: 2.2908 - acc: 0.1776 - val_loss: 2.2891 - val_acc: 0.1783\n",
      "Epoch 5/10\n",
      "48000/48000 [==============================] - 58s 1ms/sample - loss: 2.2877 - acc: 0.1888 - val_loss: 2.2859 - val_acc: 0.1901\n",
      "Epoch 6/10\n",
      "48000/48000 [==============================] - 58s 1ms/sample - loss: 2.2844 - acc: 0.2014 - val_loss: 2.2826 - val_acc: 0.2052\n",
      "Epoch 7/10\n",
      "48000/48000 [==============================] - 58s 1ms/sample - loss: 2.2811 - acc: 0.2173 - val_loss: 2.2791 - val_acc: 0.2218\n",
      "Epoch 8/10\n",
      "48000/48000 [==============================] - 59s 1ms/sample - loss: 2.2775 - acc: 0.2295 - val_loss: 2.2754 - val_acc: 0.2313\n",
      "Epoch 9/10\n",
      "48000/48000 [==============================] - 58s 1ms/sample - loss: 2.2737 - acc: 0.2370 - val_loss: 2.2715 - val_acc: 0.2392\n",
      "Epoch 10/10\n",
      "48000/48000 [==============================] - 58s 1ms/sample - loss: 2.2696 - acc: 0.2417 - val_loss: 2.2671 - val_acc: 0.2422\n"
     ]
    }
   ],
   "source": [
    "cnn_2_checkpoint = ModelCheckpoint('cnn2_model.h5', save_best_only=True, save_weights_only=True, mode='max', monitor='val_acc')\n",
    "model_cnn_2 = tf.keras.models.Sequential()\n",
    "model_cnn_2.add(tf.keras.layers.Convolution2D(32, (3,3), input_shape=(28, 28, 1), activation='relu'))\n",
    "model_cnn_2.add(tf.keras.layers.Convolution2D(32, (3,3), activation='relu'))\n",
    "model_cnn_2.add(tf.keras.layers.MaxPooling2D((2,2)))\n",
    "model_cnn_2.add(tf.keras.layers.Convolution2D(64, (3,3), activation='relu'))\n",
    "model_cnn_2.add(tf.keras.layers.Convolution2D(64, (3,3), activation='relu'))\n",
    "model_cnn_2.add(tf.keras.layers.MaxPooling2D((2,2)))\n",
    "model_cnn_2.add(tf.keras.layers.Flatten())\n",
    "model_cnn_2.add(tf.keras.layers.Dense(128, activation='relu'))\n",
    "model_cnn_2.add(tf.keras.layers.Dense(64, activation='relu'))\n",
    "model_cnn_2.add(tf.keras.layers.Dense(10, activation='softmax'))\n",
    "\n",
    "model_cnn_2.compile(optimizer='adadelta',loss='categorical_crossentropy', metrics=['accuracy'])\n",
    "    \n",
    "history_cnn2 = model_cnn_2.fit(x_TRAIN_reshaped, y_TRAIN, batch_size=500, validation_data=(x_VALID_reshaped, y_VALID),\n",
    "                       callbacks=[cnn_2_checkpoint], epochs=10)"
   ]
  },
  {
   "cell_type": "code",
   "execution_count": 22,
   "metadata": {},
   "outputs": [
    {
     "data": {
      "text/plain": [
       "<matplotlib.legend.Legend at 0x1ab6b6b650>"
      ]
     },
     "execution_count": 22,
     "metadata": {},
     "output_type": "execute_result"
    },
    {
     "data": {
      "image/png": "[encoded data removed]",
      "text/plain": [
       "<Figure size 432x288 with 1 Axes>"
      ]
     },
     "metadata": {
      "needs_background": "light"
     },
     "output_type": "display_data"
    }
   ],
   "source": [
    "plt.plot(history_cnn2.history['acc'])\n",
    "plt.plot(history_cnn2.history['val_acc'])\n",
    "plt.ylabel('Accuracy')\n",
    "plt.xlabel('Epoch')\n",
    "plt.legend(['Train', 'Test'], loc='upper left')"
   ]
  },
  {
   "cell_type": "code",
   "execution_count": 23,
   "metadata": {},
   "outputs": [
    {
     "name": "stdout",
     "output_type": "stream",
     "text": [
      "10000/10000 [==============================] - 6s 603us/sample - loss: 2.2668 - acc: 0.2463\n",
      "Convolutional neural network-2   accuracy: 0.246\n"
     ]
    }
   ],
   "source": [
    "_, score = model_cnn_2.evaluate(x_TEST_reshaped, y_test_labels)\n",
    "print(\"Convolutional neural network-2   accuracy: {0:.3f}\".format(score))"
   ]
  },
  {
   "cell_type": "markdown",
   "metadata": {},
   "source": [
    "### Add batch normalization layers"
   ]
  },
  {
   "cell_type": "code",
   "execution_count": 24,
   "metadata": {},
   "outputs": [
    {
     "name": "stdout",
     "output_type": "stream",
     "text": [
      "Train on 48000 samples, validate on 12000 samples\n",
      "Epoch 1/10\n",
      "48000/48000 [==============================] - 120s 2ms/sample - loss: 0.5099 - acc: 0.8188 - val_loss: 2.3447 - val_acc: 0.1007\n",
      "Epoch 2/10\n",
      "48000/48000 [==============================] - 111s 2ms/sample - loss: 0.2843 - acc: 0.8985 - val_loss: 2.3731 - val_acc: 0.2022\n",
      "Epoch 3/10\n",
      "48000/48000 [==============================] - 111s 2ms/sample - loss: 0.2303 - acc: 0.9180 - val_loss: 2.6414 - val_acc: 0.2648\n",
      "Epoch 4/10\n",
      "48000/48000 [==============================] - 111s 2ms/sample - loss: 0.1923 - acc: 0.9310 - val_loss: 2.6991 - val_acc: 0.3355\n",
      "Epoch 5/10\n",
      "48000/48000 [==============================] - 110s 2ms/sample - loss: 0.1649 - acc: 0.9405 - val_loss: 1.1308 - val_acc: 0.7082\n",
      "Epoch 6/10\n",
      "48000/48000 [==============================] - 111s 2ms/sample - loss: 0.1435 - acc: 0.9478 - val_loss: 0.6518 - val_acc: 0.8110\n",
      "Epoch 7/10\n",
      "48000/48000 [==============================] - 111s 2ms/sample - loss: 0.1143 - acc: 0.9597 - val_loss: 0.2831 - val_acc: 0.9025\n",
      "Epoch 8/10\n",
      "48000/48000 [==============================] - 111s 2ms/sample - loss: 0.1009 - acc: 0.9647 - val_loss: 0.2910 - val_acc: 0.9049\n",
      "Epoch 9/10\n",
      "48000/48000 [==============================] - 111s 2ms/sample - loss: 0.0839 - acc: 0.9699 - val_loss: 0.3362 - val_acc: 0.8944\n",
      "Epoch 10/10\n",
      "48000/48000 [==============================] - 145s 3ms/sample - loss: 0.0659 - acc: 0.9770 - val_loss: 0.3066 - val_acc: 0.9086\n"
     ]
    }
   ],
   "source": [
    "cnn_3_checkpoint = ModelCheckpoint('cnn3_model.h5', save_best_only=True, save_weights_only=True, mode='max', monitor='val_acc')\n",
    "model_cnn_3b = tf.keras.models.Sequential()\n",
    "model_cnn_3b.add(tf.keras.layers.Convolution2D(32, (3,3), input_shape=(28, 28, 1), activation='relu'))\n",
    "model_cnn_3b.add(tf.keras.layers.BatchNormalization())\n",
    "model_cnn_3b.add(tf.keras.layers.Convolution2D(32, (3,3), activation='relu'))\n",
    "model_cnn_3b.add(tf.keras.layers.BatchNormalization())\n",
    "model_cnn_3b.add(tf.keras.layers.MaxPooling2D((2,2)))\n",
    "model_cnn_3b.add(tf.keras.layers.Convolution2D(64, (3,3), activation='relu'))\n",
    "model_cnn_3b.add(tf.keras.layers.BatchNormalization())\n",
    "model_cnn_3b.add(tf.keras.layers.Convolution2D(64, (3,3), activation='relu'))\n",
    "model_cnn_3b.add(tf.keras.layers.BatchNormalization())\n",
    "model_cnn_3b.add(tf.keras.layers.MaxPooling2D((2,2)))\n",
    "model_cnn_3b.add(tf.keras.layers.Flatten())\n",
    "model_cnn_3b.add(tf.keras.layers.Dense(128, activation='relu'))\n",
    "model_cnn_3b.add(tf.keras.layers.Dense(32, activation='relu'))\n",
    "model_cnn_3b.add(tf.keras.layers.Dense(10, activation='softmax'))\n",
    "\n",
    "model_cnn_3b.compile(optimizer='adam',loss='categorical_crossentropy', metrics=['accuracy'])\n",
    "    \n",
    "history_cnn3 = model_cnn_3b.fit(x_TRAIN_reshaped, y_TRAIN, batch_size=500, validation_data=(x_VALID_reshaped, y_VALID),\n",
    "                       callbacks=[cnn_3_checkpoint], epochs=10)"
   ]
  },
  {
   "cell_type": "code",
   "execution_count": 25,
   "metadata": {},
   "outputs": [
    {
     "data": {
      "text/plain": [
       "<matplotlib.legend.Legend at 0x1adcfd6850>"
      ]
     },
     "execution_count": 25,
     "metadata": {},
     "output_type": "execute_result"
    },
    {
     "data": {
      "image/png": "[encoded data removed]",
      "text/plain": [
       "<Figure size 432x288 with 1 Axes>"
      ]
     },
     "metadata": {
      "needs_background": "light"
     },
     "output_type": "display_data"
    }
   ],
   "source": [
    "plt.plot(history_cnn3.history['acc'])\n",
    "plt.plot(history_cnn3.history['val_acc'])\n",
    "plt.ylabel('Accuracy')\n",
    "plt.xlabel('Epoch')\n",
    "plt.legend(['Train', 'Test'], loc='upper left')"
   ]
  },
  {
   "cell_type": "code",
   "execution_count": 26,
   "metadata": {},
   "outputs": [
    {
     "name": "stdout",
     "output_type": "stream",
     "text": [
      "10000/10000 [==============================] - 8s 848us/sample - loss: 0.2941 - acc: 0.9142\n",
      "Convolutional neural network-3   accuracy: 0.914\n"
     ]
    }
   ],
   "source": [
    "model_cnn_3b.load_weights('cnn3_model.h5')\n",
    "_, score = model_cnn_3b.evaluate(x_TEST_reshaped, y_test_labels)\n",
    "print(\"Convolutional neural network-3   accuracy: {0:.3f}\".format(score))"
   ]
  }
 ],
 "metadata": {
  "kernelspec": {
   "display_name": "Python 3",
   "language": "python",
   "name": "python3"
  },
  "language_info": {
   "codemirror_mode": {
    "name": "ipython",
    "version": 3
   },
   "file_extension": ".py",
   "mimetype": "text/x-python",
   "name": "python",
   "nbconvert_exporter": "python",
   "pygments_lexer": "ipython3",
   "version": "3.7.6"
  }
 },
 "nbformat": 4,
 "nbformat_minor": 4
}

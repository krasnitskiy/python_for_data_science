{
 "cells": [
  {
   "cell_type": "code",
   "execution_count": 1,
   "metadata": {},
   "outputs": [],
   "source": [
    "import pandas as pd\n",
    "import numpy as np\n",
    "import matplotlib.pyplot as plt\n",
    "\n",
    "%matplotlib inline\n",
    "\n",
    "plt.style.use('ggplot')\n",
    "plt.rcParams['figure.figsize'] = (12, 5)"
   ]
  },
  {
   "cell_type": "code",
   "execution_count": 2,
   "metadata": {},
   "outputs": [],
   "source": [
    "df_wine = pd.read_csv('winequality-red.csv', sep=';')"
   ]
  },
  {
   "cell_type": "code",
   "execution_count": 3,
   "metadata": {},
   "outputs": [],
   "source": [
    "df_wine.loc[:, 'quality_cat'] = (df_wine.quality > 5).astype(int)\n",
    "df_wine = df_wine.drop('quality', axis = 1)"
   ]
  },
  {
   "cell_type": "code",
   "execution_count": 4,
   "metadata": {},
   "outputs": [],
   "source": [
    "X = df_wine.iloc[:, :-1].values\n",
    "y = df_wine.iloc[:, -1].values"
   ]
  },
  {
   "cell_type": "code",
   "execution_count": 5,
   "metadata": {},
   "outputs": [
    {
     "data": {
      "text/html": [
       "<div>\n",
       "<style scoped>\n",
       "    .dataframe tbody tr th:only-of-type {\n",
       "        vertical-align: middle;\n",
       "    }\n",
       "\n",
       "    .dataframe tbody tr th {\n",
       "        vertical-align: top;\n",
       "    }\n",
       "\n",
       "    .dataframe thead th {\n",
       "        text-align: right;\n",
       "    }\n",
       "</style>\n",
       "<table border=\"1\" class=\"dataframe\">\n",
       "  <thead>\n",
       "    <tr style=\"text-align: right;\">\n",
       "      <th></th>\n",
       "      <th>fixed acidity</th>\n",
       "      <th>volatile acidity</th>\n",
       "      <th>citric acid</th>\n",
       "      <th>residual sugar</th>\n",
       "      <th>chlorides</th>\n",
       "      <th>free sulfur dioxide</th>\n",
       "      <th>total sulfur dioxide</th>\n",
       "      <th>density</th>\n",
       "      <th>pH</th>\n",
       "      <th>sulphates</th>\n",
       "      <th>alcohol</th>\n",
       "      <th>quality_cat</th>\n",
       "    </tr>\n",
       "  </thead>\n",
       "  <tbody>\n",
       "    <tr>\n",
       "      <th>0</th>\n",
       "      <td>7.4</td>\n",
       "      <td>0.70</td>\n",
       "      <td>0.00</td>\n",
       "      <td>1.9</td>\n",
       "      <td>0.076</td>\n",
       "      <td>11.0</td>\n",
       "      <td>34.0</td>\n",
       "      <td>0.9978</td>\n",
       "      <td>3.51</td>\n",
       "      <td>0.56</td>\n",
       "      <td>9.4</td>\n",
       "      <td>0</td>\n",
       "    </tr>\n",
       "    <tr>\n",
       "      <th>1</th>\n",
       "      <td>7.8</td>\n",
       "      <td>0.88</td>\n",
       "      <td>0.00</td>\n",
       "      <td>2.6</td>\n",
       "      <td>0.098</td>\n",
       "      <td>25.0</td>\n",
       "      <td>67.0</td>\n",
       "      <td>0.9968</td>\n",
       "      <td>3.20</td>\n",
       "      <td>0.68</td>\n",
       "      <td>9.8</td>\n",
       "      <td>0</td>\n",
       "    </tr>\n",
       "    <tr>\n",
       "      <th>2</th>\n",
       "      <td>7.8</td>\n",
       "      <td>0.76</td>\n",
       "      <td>0.04</td>\n",
       "      <td>2.3</td>\n",
       "      <td>0.092</td>\n",
       "      <td>15.0</td>\n",
       "      <td>54.0</td>\n",
       "      <td>0.9970</td>\n",
       "      <td>3.26</td>\n",
       "      <td>0.65</td>\n",
       "      <td>9.8</td>\n",
       "      <td>0</td>\n",
       "    </tr>\n",
       "    <tr>\n",
       "      <th>3</th>\n",
       "      <td>11.2</td>\n",
       "      <td>0.28</td>\n",
       "      <td>0.56</td>\n",
       "      <td>1.9</td>\n",
       "      <td>0.075</td>\n",
       "      <td>17.0</td>\n",
       "      <td>60.0</td>\n",
       "      <td>0.9980</td>\n",
       "      <td>3.16</td>\n",
       "      <td>0.58</td>\n",
       "      <td>9.8</td>\n",
       "      <td>1</td>\n",
       "    </tr>\n",
       "    <tr>\n",
       "      <th>4</th>\n",
       "      <td>7.4</td>\n",
       "      <td>0.70</td>\n",
       "      <td>0.00</td>\n",
       "      <td>1.9</td>\n",
       "      <td>0.076</td>\n",
       "      <td>11.0</td>\n",
       "      <td>34.0</td>\n",
       "      <td>0.9978</td>\n",
       "      <td>3.51</td>\n",
       "      <td>0.56</td>\n",
       "      <td>9.4</td>\n",
       "      <td>0</td>\n",
       "    </tr>\n",
       "  </tbody>\n",
       "</table>\n",
       "</div>"
      ],
      "text/plain": [
       "   fixed acidity  volatile acidity  citric acid  residual sugar  chlorides  \\\n",
       "0            7.4              0.70         0.00             1.9      0.076   \n",
       "1            7.8              0.88         0.00             2.6      0.098   \n",
       "2            7.8              0.76         0.04             2.3      0.092   \n",
       "3           11.2              0.28         0.56             1.9      0.075   \n",
       "4            7.4              0.70         0.00             1.9      0.076   \n",
       "\n",
       "   free sulfur dioxide  total sulfur dioxide  density    pH  sulphates  \\\n",
       "0                 11.0                  34.0   0.9978  3.51       0.56   \n",
       "1                 25.0                  67.0   0.9968  3.20       0.68   \n",
       "2                 15.0                  54.0   0.9970  3.26       0.65   \n",
       "3                 17.0                  60.0   0.9980  3.16       0.58   \n",
       "4                 11.0                  34.0   0.9978  3.51       0.56   \n",
       "\n",
       "   alcohol  quality_cat  \n",
       "0      9.4            0  \n",
       "1      9.8            0  \n",
       "2      9.8            0  \n",
       "3      9.8            1  \n",
       "4      9.4            0  "
      ]
     },
     "execution_count": 5,
     "metadata": {},
     "output_type": "execute_result"
    }
   ],
   "source": [
    "df_wine.head()"
   ]
  },
  {
   "cell_type": "markdown",
   "metadata": {},
   "source": [
    "### 1. PCA by different ways."
   ]
  },
  {
   "cell_type": "markdown",
   "metadata": {},
   "source": [
    "#### 1.1. By sklearn"
   ]
  },
  {
   "cell_type": "code",
   "execution_count": 6,
   "metadata": {},
   "outputs": [],
   "source": [
    "from sklearn.decomposition import PCA"
   ]
  },
  {
   "cell_type": "code",
   "execution_count": 7,
   "metadata": {},
   "outputs": [],
   "source": [
    "pca = PCA(n_components=6)"
   ]
  },
  {
   "cell_type": "code",
   "execution_count": 8,
   "metadata": {},
   "outputs": [
    {
     "data": {
      "text/plain": [
       "PCA(copy=True, iterated_power='auto', n_components=6, random_state=None,\n",
       "    svd_solver='auto', tol=0.0, whiten=False)"
      ]
     },
     "execution_count": 8,
     "metadata": {},
     "output_type": "execute_result"
    }
   ],
   "source": [
    "pca.fit(X)"
   ]
  },
  {
   "cell_type": "code",
   "execution_count": 9,
   "metadata": {},
   "outputs": [],
   "source": [
    "Z = pca.transform(X) # compress features "
   ]
  },
  {
   "cell_type": "code",
   "execution_count": 10,
   "metadata": {},
   "outputs": [
    {
     "data": {
      "text/plain": [
       "(1599, 6)"
      ]
     },
     "execution_count": 10,
     "metadata": {},
     "output_type": "execute_result"
    }
   ],
   "source": [
    "Z.shape # we got only 6 features "
   ]
  },
  {
   "cell_type": "code",
   "execution_count": 11,
   "metadata": {},
   "outputs": [
    {
     "data": {
      "text/plain": [
       "array([[-6.13247431e-03,  3.84465551e-04,  1.70902595e-04,\n",
       "         8.64894648e-03,  6.37307290e-05,  2.18857434e-01,\n",
       "         9.75678369e-01,  3.72498542e-06, -2.68008619e-04,\n",
       "         2.23381730e-04, -6.35846721e-03],\n",
       "       [-2.38994985e-02, -2.00966661e-03, -3.03480788e-03,\n",
       "         1.11348551e-02, -2.36654751e-04,  9.75265982e-01,\n",
       "        -2.18916841e-01, -2.49998510e-05,  3.27182194e-03,\n",
       "         6.18926046e-04,  1.45642451e-02],\n",
       "       [ 9.53135980e-01, -2.51315387e-02,  7.37082746e-02,\n",
       "         2.80913620e-01,  2.94578815e-03,  2.08968395e-02,\n",
       "        -1.52685886e-03,  7.76139600e-04, -5.86305467e-02,\n",
       "         1.75252442e-02, -4.85991164e-02],\n",
       "       [-2.65092214e-01,  7.27374987e-03, -9.83215158e-03,\n",
       "         9.43177990e-01, -6.45262673e-04, -2.11894371e-02,\n",
       "        -3.97992967e-03,  5.52088341e-05,  2.05779719e-02,\n",
       "        -7.19926307e-03,  1.97613982e-01],\n",
       "       [ 9.81476468e-02, -4.11570558e-02,  4.14815020e-02,\n",
       "        -1.76626862e-01, -9.47985067e-03, -7.86843454e-03,\n",
       "         1.03231630e-02, -8.33972282e-04,  1.26215966e-02,\n",
       "         2.35852364e-02,  9.77128836e-01],\n",
       "       [-7.93123729e-02, -6.89241790e-01,  5.04044257e-01,\n",
       "         5.76573957e-03,  5.70159846e-02, -1.05989214e-03,\n",
       "        -6.14340167e-04, -4.67157195e-04, -1.42001678e-01,\n",
       "         4.88427356e-01, -5.08246586e-02]])"
      ]
     },
     "execution_count": 11,
     "metadata": {},
     "output_type": "execute_result"
    }
   ],
   "source": [
    "pca.components_ # look at coefficients"
   ]
  },
  {
   "cell_type": "code",
   "execution_count": 12,
   "metadata": {},
   "outputs": [
    {
     "data": {
      "text/plain": [
       "(6, 11)"
      ]
     },
     "execution_count": 12,
     "metadata": {},
     "output_type": "execute_result"
    }
   ],
   "source": [
    "pca.components_.shape"
   ]
  },
  {
   "cell_type": "code",
   "execution_count": 13,
   "metadata": {},
   "outputs": [
    {
     "data": {
      "text/plain": [
       "array([[35.49124148,  3.27633804,  7.09548962,  1.39282058,  9.86729436,\n",
       "        -1.78976356],\n",
       "       [70.75387009,  9.7085594 ,  7.91193216,  1.59211602, 10.39557399,\n",
       "        -1.89307097],\n",
       "       [55.87881981,  2.79877699,  7.64044185,  1.57298448, 10.39974983,\n",
       "        -1.79685968],\n",
       "       ...,\n",
       "       [45.28479297, 19.57148134,  6.47159087,  1.96670595, 11.1889539 ,\n",
       "        -1.50223321],\n",
       "       [49.84902482, 21.61640517,  6.08789618,  1.5566658 , 10.4336557 ,\n",
       "        -1.57619761],\n",
       "       [44.84176989,  8.42658539,  6.34816089,  3.49272766, 11.05701313,\n",
       "        -1.19150193]])"
      ]
     },
     "execution_count": 13,
     "metadata": {},
     "output_type": "execute_result"
    }
   ],
   "source": [
    "# Try to repeat result by hands\n",
    "X.dot(pca.components_.T)"
   ]
  },
  {
   "cell_type": "code",
   "execution_count": 14,
   "metadata": {},
   "outputs": [
    {
     "data": {
      "text/plain": [
       "array([[-13.22490501,  -2.02389981,  -1.12682053,  -0.39923318,\n",
       "         -1.08538902,  -0.19801755],\n",
       "       [ 22.03772361,   4.40832155,  -0.31037799,  -0.19993774,\n",
       "         -0.55710939,  -0.30132496],\n",
       "       [  7.16267333,  -2.50146086,  -0.5818683 ,  -0.21906928,\n",
       "         -0.55293355,  -0.20511367],\n",
       "       [ 13.43006283,  -1.95112215,   2.63403954,  -1.5740594 ,\n",
       "         -0.06380573,   0.08909173],\n",
       "       [-13.22490501,  -2.02389981,  -1.12682053,  -0.39923318,\n",
       "         -1.08538902,  -0.19801755],\n",
       "       [ -6.93400027,  -1.38790176,  -1.12127705,  -0.56009974,\n",
       "         -1.01986846,  -0.1768873 ],\n",
       "       [ 12.03682832,  -3.61177553,  -0.67163691,  -1.00390299,\n",
       "         -0.75505874,  -0.17925554],\n",
       "       [-25.04255804,   4.72607199,  -1.33781652,  -0.94957702,\n",
       "         -0.552435  ,  -0.21395213],\n",
       "       [-29.2756982 ,  -0.47905559,  -0.72624845,  -0.28935942,\n",
       "         -1.11137314,  -0.10349532],\n",
       "       [ 54.46316749, -10.99931637,   0.16155938,   3.34519729,\n",
       "         -0.06094772,   0.17318775]])"
      ]
     },
     "execution_count": 14,
     "metadata": {},
     "output_type": "execute_result"
    }
   ],
   "source": [
    "Z[:10] # We got another result (because PCA use mean subtraction)"
   ]
  },
  {
   "cell_type": "code",
   "execution_count": 15,
   "metadata": {},
   "outputs": [],
   "source": [
    "X_ = X - X.mean(axis=0) # mean subtraction by hand"
   ]
  },
  {
   "cell_type": "code",
   "execution_count": 16,
   "metadata": {},
   "outputs": [
    {
     "data": {
      "text/plain": [
       "array([[-1.32249050e+01, -2.02389981e+00, -1.12682053e+00,\n",
       "        -3.99233183e-01, -1.08538902e+00, -1.98017553e-01],\n",
       "       [ 2.20377236e+01,  4.40832155e+00, -3.10377987e-01,\n",
       "        -1.99937740e-01, -5.57109394e-01, -3.01324964e-01],\n",
       "       [ 7.16267333e+00, -2.50146086e+00, -5.81868296e-01,\n",
       "        -2.19069278e-01, -5.52933551e-01, -2.05113668e-01],\n",
       "       ...,\n",
       "       [-3.43135351e+00,  1.42712435e+01, -1.75071927e+00,\n",
       "         1.74652190e-01,  2.36270522e-01,  8.95128040e-02],\n",
       "       [ 1.13287834e+00,  1.63161673e+01, -2.13441396e+00,\n",
       "        -2.35387962e-01, -5.19027681e-01,  1.55484011e-02],\n",
       "       [-3.87437660e+00,  3.12634754e+00, -1.87414925e+00,\n",
       "         1.70067390e+00,  1.04329744e-01,  4.00244077e-01]])"
      ]
     },
     "execution_count": 16,
     "metadata": {},
     "output_type": "execute_result"
    }
   ],
   "source": [
    "X_.dot(pca.components_.T) # now we got the same result"
   ]
  },
  {
   "cell_type": "code",
   "execution_count": 17,
   "metadata": {},
   "outputs": [
    {
     "data": {
      "text/plain": [
       "array([9.46576976e-01, 4.83683046e-02, 2.58917183e-03, 1.51896798e-03,\n",
       "       8.73553990e-04, 3.45607218e-05])"
      ]
     },
     "execution_count": 17,
     "metadata": {},
     "output_type": "execute_result"
    }
   ],
   "source": [
    "pca.explained_variance_ratio_ # variance ratio"
   ]
  },
  {
   "cell_type": "markdown",
   "metadata": {},
   "source": [
    "#### 1.2. By SVD"
   ]
  },
  {
   "cell_type": "code",
   "execution_count": 18,
   "metadata": {},
   "outputs": [],
   "source": [
    "from numpy.linalg import svd"
   ]
  },
  {
   "cell_type": "code",
   "execution_count": 19,
   "metadata": {},
   "outputs": [],
   "source": [
    "u, s, vt = svd(X_, full_matrices=0) # full Singular Value Decomposition"
   ]
  },
  {
   "cell_type": "code",
   "execution_count": 20,
   "metadata": {},
   "outputs": [
    {
     "data": {
      "text/plain": [
       "(1599, 11)"
      ]
     },
     "execution_count": 20,
     "metadata": {},
     "output_type": "execute_result"
    }
   ],
   "source": [
    "u.shape"
   ]
  },
  {
   "cell_type": "code",
   "execution_count": 21,
   "metadata": {},
   "outputs": [
    {
     "data": {
      "text/plain": [
       "(11,)"
      ]
     },
     "execution_count": 21,
     "metadata": {},
     "output_type": "execute_result"
    }
   ],
   "source": [
    "s.shape"
   ]
  },
  {
   "cell_type": "code",
   "execution_count": 22,
   "metadata": {},
   "outputs": [
    {
     "data": {
      "text/plain": [
       "(11, 11)"
      ]
     },
     "execution_count": 22,
     "metadata": {},
     "output_type": "execute_result"
    }
   ],
   "source": [
    "vt.shape"
   ]
  },
  {
   "cell_type": "code",
   "execution_count": 23,
   "metadata": {},
   "outputs": [],
   "source": [
    "S = np.diag(s) # do diagonal matrix"
   ]
  },
  {
   "cell_type": "code",
   "execution_count": 24,
   "metadata": {},
   "outputs": [],
   "source": [
    "X_svd = u.dot(S).dot(vt)"
   ]
  },
  {
   "cell_type": "code",
   "execution_count": 25,
   "metadata": {},
   "outputs": [
    {
     "data": {
      "text/plain": [
       "2.7676544674771666e-24"
      ]
     },
     "execution_count": 25,
     "metadata": {},
     "output_type": "execute_result"
    }
   ],
   "source": [
    "((X_svd - X_)**2).sum()"
   ]
  },
  {
   "cell_type": "code",
   "execution_count": 26,
   "metadata": {},
   "outputs": [
    {
     "data": {
      "text/plain": [
       "array([[-6.13247431e-03,  3.84465551e-04,  1.70902595e-04,\n",
       "         8.64894648e-03,  6.37307290e-05,  2.18857434e-01,\n",
       "         9.75678369e-01,  3.72498542e-06, -2.68008619e-04,\n",
       "         2.23381730e-04, -6.35846721e-03],\n",
       "       [-2.38994985e-02, -2.00966661e-03, -3.03480788e-03,\n",
       "         1.11348551e-02, -2.36654751e-04,  9.75265982e-01,\n",
       "        -2.18916841e-01, -2.49998510e-05,  3.27182194e-03,\n",
       "         6.18926046e-04,  1.45642451e-02],\n",
       "       [ 9.53135980e-01, -2.51315387e-02,  7.37082746e-02,\n",
       "         2.80913620e-01,  2.94578815e-03,  2.08968395e-02,\n",
       "        -1.52685886e-03,  7.76139600e-04, -5.86305467e-02,\n",
       "         1.75252442e-02, -4.85991164e-02],\n",
       "       [-2.65092214e-01,  7.27374987e-03, -9.83215158e-03,\n",
       "         9.43177990e-01, -6.45262673e-04, -2.11894371e-02,\n",
       "        -3.97992967e-03,  5.52088341e-05,  2.05779719e-02,\n",
       "        -7.19926307e-03,  1.97613982e-01],\n",
       "       [ 9.81476468e-02, -4.11570558e-02,  4.14815020e-02,\n",
       "        -1.76626862e-01, -9.47985067e-03, -7.86843454e-03,\n",
       "         1.03231630e-02, -8.33972282e-04,  1.26215966e-02,\n",
       "         2.35852364e-02,  9.77128836e-01],\n",
       "       [-7.93123729e-02, -6.89241790e-01,  5.04044257e-01,\n",
       "         5.76573957e-03,  5.70159846e-02, -1.05989214e-03,\n",
       "        -6.14340167e-04, -4.67157195e-04, -1.42001678e-01,\n",
       "         4.88427356e-01, -5.08246586e-02]])"
      ]
     },
     "execution_count": 26,
     "metadata": {},
     "output_type": "execute_result"
    }
   ],
   "source": [
    "pca.components_"
   ]
  },
  {
   "cell_type": "code",
   "execution_count": 27,
   "metadata": {},
   "outputs": [
    {
     "data": {
      "text/plain": [
       "array([[ 6.13247431e-03, -3.84465551e-04, -1.70902595e-04,\n",
       "        -8.64894648e-03, -6.37307290e-05, -2.18857434e-01,\n",
       "        -9.75678369e-01, -3.72498542e-06,  2.68008619e-04,\n",
       "        -2.23381730e-04,  6.35846721e-03],\n",
       "       [-2.38994985e-02, -2.00966661e-03, -3.03480788e-03,\n",
       "         1.11348551e-02, -2.36654751e-04,  9.75265982e-01,\n",
       "        -2.18916841e-01, -2.49998510e-05,  3.27182194e-03,\n",
       "         6.18926046e-04,  1.45642451e-02],\n",
       "       [-9.53135980e-01,  2.51315387e-02, -7.37082746e-02,\n",
       "        -2.80913620e-01, -2.94578815e-03, -2.08968395e-02,\n",
       "         1.52685886e-03, -7.76139600e-04,  5.86305467e-02,\n",
       "        -1.75252442e-02,  4.85991164e-02],\n",
       "       [ 2.65092214e-01, -7.27374987e-03,  9.83215158e-03,\n",
       "        -9.43177990e-01,  6.45262673e-04,  2.11894371e-02,\n",
       "         3.97992967e-03, -5.52088341e-05, -2.05779719e-02,\n",
       "         7.19926307e-03, -1.97613982e-01],\n",
       "       [-9.81476468e-02,  4.11570558e-02, -4.14815020e-02,\n",
       "         1.76626862e-01,  9.47985067e-03,  7.86843454e-03,\n",
       "        -1.03231630e-02,  8.33972282e-04, -1.26215966e-02,\n",
       "        -2.35852364e-02, -9.77128836e-01],\n",
       "       [ 7.93123729e-02,  6.89241790e-01, -5.04044257e-01,\n",
       "        -5.76573957e-03, -5.70159846e-02,  1.05989214e-03,\n",
       "         6.14340167e-04,  4.67157195e-04,  1.42001678e-01,\n",
       "        -4.88427356e-01,  5.08246586e-02],\n",
       "       [ 1.11415873e-02,  4.64366208e-01, -2.05507873e-01,\n",
       "         2.49458552e-03,  1.13948493e-01, -9.26191533e-05,\n",
       "        -2.30257301e-04,  1.59988536e-03, -1.02608661e-02,\n",
       "         8.53721238e-01,  8.24998669e-03],\n",
       "       [ 6.49066070e-02, -3.38841054e-01, -3.27123399e-01,\n",
       "         4.13432131e-03, -1.32518260e-01, -2.57435147e-03,\n",
       "         1.21187727e-03,  4.10828148e-03,  8.59196803e-01,\n",
       "         1.32919186e-01, -2.17794088e-02],\n",
       "       [-1.62056112e-02,  4.28631866e-01,  7.60466107e-01,\n",
       "        -6.93128776e-03,  7.21971030e-02,  1.49867896e-03,\n",
       "        -6.57103967e-04,  2.83889045e-03,  4.78787810e-01,\n",
       "        -5.35682617e-02, -1.80242815e-02],\n",
       "       [-1.11894679e-02,  9.15867655e-02,  1.05489073e-01,\n",
       "         1.48602896e-03, -9.80249498e-01,  3.17589826e-04,\n",
       "        -2.60239937e-04, -2.03252714e-03, -9.06452527e-02,\n",
       "         1.05566655e-01, -1.01118356e-02],\n",
       "       [-9.42137146e-04, -7.18832280e-04, -5.84467646e-05,\n",
       "        -4.12747476e-04, -1.81878311e-03,  8.57545760e-06,\n",
       "        -2.65414500e-06,  9.99983426e-01, -5.06831403e-03,\n",
       "        -1.31065389e-03,  9.25261335e-04]])"
      ]
     },
     "execution_count": 27,
     "metadata": {},
     "output_type": "execute_result"
    }
   ],
   "source": [
    "vt"
   ]
  },
  {
   "cell_type": "code",
   "execution_count": 28,
   "metadata": {},
   "outputs": [],
   "source": [
    "v = vt[:6].T"
   ]
  },
  {
   "cell_type": "code",
   "execution_count": 29,
   "metadata": {},
   "outputs": [],
   "source": [
    "Z_svd = X_.dot(v)"
   ]
  },
  {
   "cell_type": "code",
   "execution_count": 30,
   "metadata": {},
   "outputs": [
    {
     "data": {
      "text/plain": [
       "array([[ 13.22490501,  -2.02389981,   1.12682053,   0.39923318,\n",
       "          1.08538902,   0.19801755],\n",
       "       [-22.03772361,   4.40832155,   0.31037799,   0.19993774,\n",
       "          0.55710939,   0.30132496],\n",
       "       [ -7.16267333,  -2.50146086,   0.5818683 ,   0.21906928,\n",
       "          0.55293355,   0.20511367],\n",
       "       [-13.43006283,  -1.95112215,  -2.63403954,   1.5740594 ,\n",
       "          0.06380573,  -0.08909173],\n",
       "       [ 13.22490501,  -2.02389981,   1.12682053,   0.39923318,\n",
       "          1.08538902,   0.19801755],\n",
       "       [  6.93400027,  -1.38790176,   1.12127705,   0.56009974,\n",
       "          1.01986846,   0.1768873 ],\n",
       "       [-12.03682832,  -3.61177553,   0.67163691,   1.00390299,\n",
       "          0.75505874,   0.17925554],\n",
       "       [ 25.04255804,   4.72607199,   1.33781652,   0.94957702,\n",
       "          0.552435  ,   0.21395213],\n",
       "       [ 29.2756982 ,  -0.47905559,   0.72624845,   0.28935942,\n",
       "          1.11137314,   0.10349532],\n",
       "       [-54.46316749, -10.99931637,  -0.16155938,  -3.34519729,\n",
       "          0.06094772,  -0.17318775]])"
      ]
     },
     "execution_count": 30,
     "metadata": {},
     "output_type": "execute_result"
    }
   ],
   "source": [
    "Z_svd[:10]"
   ]
  },
  {
   "cell_type": "code",
   "execution_count": 31,
   "metadata": {},
   "outputs": [
    {
     "data": {
      "text/plain": [
       "array([[-13.22490501,  -2.02389981,  -1.12682053,  -0.39923318,\n",
       "         -1.08538902,  -0.19801755],\n",
       "       [ 22.03772361,   4.40832155,  -0.31037799,  -0.19993774,\n",
       "         -0.55710939,  -0.30132496],\n",
       "       [  7.16267333,  -2.50146086,  -0.5818683 ,  -0.21906928,\n",
       "         -0.55293355,  -0.20511367],\n",
       "       [ 13.43006283,  -1.95112215,   2.63403954,  -1.5740594 ,\n",
       "         -0.06380573,   0.08909173],\n",
       "       [-13.22490501,  -2.02389981,  -1.12682053,  -0.39923318,\n",
       "         -1.08538902,  -0.19801755],\n",
       "       [ -6.93400027,  -1.38790176,  -1.12127705,  -0.56009974,\n",
       "         -1.01986846,  -0.1768873 ],\n",
       "       [ 12.03682832,  -3.61177553,  -0.67163691,  -1.00390299,\n",
       "         -0.75505874,  -0.17925554],\n",
       "       [-25.04255804,   4.72607199,  -1.33781652,  -0.94957702,\n",
       "         -0.552435  ,  -0.21395213],\n",
       "       [-29.2756982 ,  -0.47905559,  -0.72624845,  -0.28935942,\n",
       "         -1.11137314,  -0.10349532],\n",
       "       [ 54.46316749, -10.99931637,   0.16155938,   3.34519729,\n",
       "         -0.06094772,   0.17318775]])"
      ]
     },
     "execution_count": 31,
     "metadata": {},
     "output_type": "execute_result"
    }
   ],
   "source": [
    "Z[:10]"
   ]
  },
  {
   "cell_type": "markdown",
   "metadata": {},
   "source": [
    "#### 1.3. By covariance matrix (eigenvalues, eigenvectors)"
   ]
  },
  {
   "cell_type": "code",
   "execution_count": 32,
   "metadata": {},
   "outputs": [],
   "source": [
    "from numpy.linalg import eig"
   ]
  },
  {
   "cell_type": "code",
   "execution_count": 33,
   "metadata": {},
   "outputs": [],
   "source": [
    "C = X_.T.dot(X_) # covariance matrix"
   ]
  },
  {
   "cell_type": "code",
   "execution_count": 34,
   "metadata": {},
   "outputs": [],
   "source": [
    "lamd, W = eig(C)"
   ]
  },
  {
   "cell_type": "code",
   "execution_count": 35,
   "metadata": {},
   "outputs": [
    {
     "data": {
      "text/plain": [
       "array([1.81182371e+06, 9.25807864e+04, 4.95588105e+03, 2.90742567e+03,\n",
       "       1.67205190e+03, 6.61519736e+01, 3.70618671e+01, 1.81316567e+01,\n",
       "       1.61046186e+01, 2.32508608e+00, 8.97249302e-04])"
      ]
     },
     "execution_count": 35,
     "metadata": {},
     "output_type": "execute_result"
    }
   ],
   "source": [
    "lamd # eigenvalues"
   ]
  },
  {
   "cell_type": "code",
   "execution_count": 36,
   "metadata": {},
   "outputs": [
    {
     "data": {
      "text/plain": [
       "array([[ 6.13247431e-03, -2.38994985e-02, -9.53135980e-01,\n",
       "        -2.65092214e-01,  9.81476468e-02,  7.93123729e-02,\n",
       "         1.11415873e-02,  6.49066070e-02, -1.62056112e-02,\n",
       "         1.11894679e-02, -9.42137146e-04],\n",
       "       [-3.84465551e-04, -2.00966661e-03,  2.51315387e-02,\n",
       "         7.27374987e-03, -4.11570558e-02,  6.89241790e-01,\n",
       "         4.64366208e-01, -3.38841054e-01,  4.28631866e-01,\n",
       "        -9.15867655e-02, -7.18832280e-04],\n",
       "       [-1.70902595e-04, -3.03480788e-03, -7.37082746e-02,\n",
       "        -9.83215158e-03,  4.14815020e-02, -5.04044257e-01,\n",
       "        -2.05507873e-01, -3.27123399e-01,  7.60466107e-01,\n",
       "        -1.05489073e-01, -5.84467646e-05],\n",
       "       [-8.64894648e-03,  1.11348551e-02, -2.80913620e-01,\n",
       "         9.43177990e-01, -1.76626862e-01, -5.76573957e-03,\n",
       "         2.49458552e-03,  4.13432131e-03, -6.93128776e-03,\n",
       "        -1.48602896e-03, -4.12747476e-04],\n",
       "       [-6.37307290e-05, -2.36654751e-04, -2.94578815e-03,\n",
       "        -6.45262673e-04, -9.47985067e-03, -5.70159846e-02,\n",
       "         1.13948493e-01, -1.32518260e-01,  7.21971030e-02,\n",
       "         9.80249498e-01, -1.81878311e-03],\n",
       "       [-2.18857434e-01,  9.75265982e-01, -2.08968395e-02,\n",
       "        -2.11894371e-02, -7.86843454e-03,  1.05989214e-03,\n",
       "        -9.26191533e-05, -2.57435147e-03,  1.49867896e-03,\n",
       "        -3.17589826e-04,  8.57545760e-06],\n",
       "       [-9.75678369e-01, -2.18916841e-01,  1.52685886e-03,\n",
       "        -3.97992967e-03,  1.03231630e-02,  6.14340167e-04,\n",
       "        -2.30257301e-04,  1.21187727e-03, -6.57103967e-04,\n",
       "         2.60239937e-04, -2.65414500e-06],\n",
       "       [-3.72498542e-06, -2.49998510e-05, -7.76139600e-04,\n",
       "         5.52088341e-05, -8.33972282e-04,  4.67157195e-04,\n",
       "         1.59988536e-03,  4.10828148e-03,  2.83889045e-03,\n",
       "         2.03252714e-03,  9.99983426e-01],\n",
       "       [ 2.68008619e-04,  3.27182194e-03,  5.86305467e-02,\n",
       "         2.05779719e-02,  1.26215966e-02,  1.42001678e-01,\n",
       "        -1.02608661e-02,  8.59196803e-01,  4.78787810e-01,\n",
       "         9.06452527e-02, -5.06831403e-03],\n",
       "       [-2.23381730e-04,  6.18926046e-04, -1.75252442e-02,\n",
       "        -7.19926307e-03,  2.35852364e-02, -4.88427356e-01,\n",
       "         8.53721238e-01,  1.32919186e-01, -5.35682617e-02,\n",
       "        -1.05566655e-01, -1.31065389e-03],\n",
       "       [ 6.35846721e-03,  1.45642451e-02,  4.85991164e-02,\n",
       "         1.97613982e-01,  9.77128836e-01,  5.08246586e-02,\n",
       "         8.24998669e-03, -2.17794088e-02, -1.80242815e-02,\n",
       "         1.01118356e-02,  9.25261335e-04]])"
      ]
     },
     "execution_count": 36,
     "metadata": {},
     "output_type": "execute_result"
    }
   ],
   "source": [
    "W # eigenvectors"
   ]
  },
  {
   "cell_type": "code",
   "execution_count": 37,
   "metadata": {},
   "outputs": [
    {
     "data": {
      "text/plain": [
       "array([9.46576976e-01, 4.83683046e-02, 2.58917183e-03, 1.51896798e-03,\n",
       "       8.73553990e-04, 3.45607218e-05])"
      ]
     },
     "execution_count": 37,
     "metadata": {},
     "output_type": "execute_result"
    }
   ],
   "source": [
    "pca.explained_variance_ratio_"
   ]
  },
  {
   "cell_type": "code",
   "execution_count": 38,
   "metadata": {},
   "outputs": [
    {
     "data": {
      "text/plain": [
       "array([9.46576976e-01, 4.83683046e-02, 2.58917183e-03, 1.51896798e-03,\n",
       "       8.73553990e-04, 3.45607218e-05, 1.93627614e-05, 9.47278079e-06,\n",
       "       8.41376628e-06, 1.21472798e-06, 4.68762788e-10])"
      ]
     },
     "execution_count": 38,
     "metadata": {},
     "output_type": "execute_result"
    }
   ],
   "source": [
    "lamd/lamd.sum() # We got same results for varience"
   ]
  },
  {
   "cell_type": "code",
   "execution_count": 39,
   "metadata": {},
   "outputs": [
    {
     "data": {
      "text/plain": [
       "[<matplotlib.lines.Line2D at 0x8b12c50>]"
      ]
     },
     "execution_count": 39,
     "metadata": {},
     "output_type": "execute_result"
    },
    {
     "data": {
      "image/png": "[encoded data removed]",
      "text/plain": [
       "<Figure size 432x288 with 1 Axes>"
      ]
     },
     "metadata": {
      "needs_background": "light"
     },
     "output_type": "display_data"
    }
   ],
   "source": [
    "plt.plot(np.cumsum(pca.explained_variance_ratio_)) # The first component expains 90% of variance "
   ]
  },
  {
   "cell_type": "markdown",
   "metadata": {},
   "source": [
    "### 2. PCA influence for classification quality"
   ]
  },
  {
   "cell_type": "code",
   "execution_count": 40,
   "metadata": {},
   "outputs": [],
   "source": [
    "from sklearn.linear_model import LogisticRegression\n",
    "from sklearn.pipeline import Pipeline\n",
    "from sklearn.preprocessing import StandardScaler\n",
    "from sklearn.model_selection import StratifiedKFold, cross_val_score\n",
    "import warnings\n",
    "warnings.filterwarnings(\"ignore\", category=FutureWarning)"
   ]
  },
  {
   "cell_type": "code",
   "execution_count": 41,
   "metadata": {},
   "outputs": [],
   "source": [
    "model_baseline = Pipeline([('scaler', StandardScaler()), ('clf', LogisticRegression())])"
   ]
  },
  {
   "cell_type": "code",
   "execution_count": 42,
   "metadata": {},
   "outputs": [],
   "source": [
    "cv = StratifiedKFold(n_splits=5, shuffle=True, random_state=123) # cross validation"
   ]
  },
  {
   "cell_type": "code",
   "execution_count": 43,
   "metadata": {},
   "outputs": [],
   "source": [
    "base_score = cross_val_score(model_baseline, X, y, scoring='accuracy', cv=cv).mean() # without RCA"
   ]
  },
  {
   "cell_type": "code",
   "execution_count": 44,
   "metadata": {},
   "outputs": [],
   "source": [
    "scores = []\n",
    "for n in range(1, 12):\n",
    "    model = Pipeline([('scaler', StandardScaler()), ('pca', PCA(n_components=n)), ('clf', LogisticRegression())]) # add PCA to our Pipeline\n",
    "    scores.append(cross_val_score(model, X, y, scoring='accuracy', cv=cv).mean())"
   ]
  },
  {
   "cell_type": "code",
   "execution_count": 45,
   "metadata": {},
   "outputs": [
    {
     "data": {
      "text/plain": [
       "<matplotlib.collections.LineCollection at 0xd6ca828>"
      ]
     },
     "execution_count": 45,
     "metadata": {},
     "output_type": "execute_result"
    },
    {
     "data": {
      "image/png": "[encoded data removed]",
      "text/plain": [
       "<Figure size 432x288 with 1 Axes>"
      ]
     },
     "metadata": {
      "needs_background": "light"
     },
     "output_type": "display_data"
    }
   ],
   "source": [
    "plt.plot(range(1, 12), scores)\n",
    "plt.hlines(base_score, 1, 12)"
   ]
  },
  {
   "cell_type": "markdown",
   "metadata": {},
   "source": [
    "We can see that PCA does not give a quality growth, but it also does not cause of quality decresing for little features reduce."
   ]
  }
 ],
 "metadata": {
  "kernelspec": {
   "display_name": "Python 3",
   "language": "python",
   "name": "python3"
  },
  "language_info": {
   "codemirror_mode": {
    "name": "ipython",
    "version": 3
   },
   "file_extension": ".py",
   "mimetype": "text/x-python",
   "name": "python",
   "nbconvert_exporter": "python",
   "pygments_lexer": "ipython3",
   "version": "3.7.3"
  }
 },
 "nbformat": 4,
 "nbformat_minor": 2
}

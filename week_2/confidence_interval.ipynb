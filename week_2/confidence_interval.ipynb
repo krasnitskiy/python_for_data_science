{
 "cells": [
  {
   "cell_type": "markdown",
   "metadata": {},
   "source": [
    "# Confidence interval"
   ]
  },
  {
   "cell_type": "code",
   "execution_count": 1,
   "metadata": {},
   "outputs": [],
   "source": [
    "import numpy as np\n",
    "from scipy import stats\n",
    "import matplotlib.pyplot as plt\n",
    "%matplotlib inline\n",
    "import random\n",
    "from tqdm import tqdm\n",
    "import pandas as pd\n",
    "plt.style.use('ggplot')"
   ]
  },
  {
   "cell_type": "markdown",
   "metadata": {},
   "source": [
    "### Normal distribution (variance is known)"
   ]
  },
  {
   "cell_type": "code",
   "execution_count": 2,
   "metadata": {},
   "outputs": [],
   "source": [
    "population = stats.norm.rvs(loc = 2, scale = 5, size = 100000) # fix some normal disctribution"
   ]
  },
  {
   "cell_type": "code",
   "execution_count": 3,
   "metadata": {},
   "outputs": [],
   "source": [
    "sample_size = 100\n",
    "sample = np.random.choice(a = population, size = sample_size) # get some sample from this discrubution"
   ]
  },
  {
   "cell_type": "code",
   "execution_count": 4,
   "metadata": {},
   "outputs": [],
   "source": [
    "sample_mean = sample.mean() # get sample mean\n",
    "st_dev = population.std() # get sample variace"
   ]
  },
  {
   "cell_type": "code",
   "execution_count": 5,
   "metadata": {},
   "outputs": [
    {
     "name": "stdout",
     "output_type": "stream",
     "text": [
      "right z-value: 1.959963984540054\n"
     ]
    }
   ],
   "source": [
    "z_value = stats.norm.ppf(q = 0.975) # get right z-value\n",
    "print('right z-value:', z_value)"
   ]
  },
  {
   "cell_type": "code",
   "execution_count": 6,
   "metadata": {},
   "outputs": [
    {
     "name": "stdout",
     "output_type": "stream",
     "text": [
      "left z-value: -1.9599639845400545\n"
     ]
    }
   ],
   "source": [
    "z_value = stats.norm.ppf(q = 0.025) # get left z-value\n",
    "print('left z-value:', z_value)"
   ]
  },
  {
   "cell_type": "code",
   "execution_count": 7,
   "metadata": {},
   "outputs": [
    {
     "name": "stdout",
     "output_type": "stream",
     "text": [
      "Confidence interval: (2.9176708022662847, 0.9597811829791674)\n"
     ]
    }
   ],
   "source": [
    "interval = z_value * (st_dev/np.sqrt(sample_size))\n",
    "conf_inv = (sample_mean - interval, sample_mean + interval) # get confidence interval\n",
    "print('Confidence interval:', conf_inv)"
   ]
  },
  {
   "cell_type": "code",
   "execution_count": 8,
   "metadata": {},
   "outputs": [],
   "source": [
    "# add confidence interval computing into one function\n",
    "def comp_ci(sample, st_dev): \n",
    "    z_value = stats.norm.ppf(q = 0.975)\n",
    "    sample_size = len(sample)\n",
    "    interval = z_value * (st_dev/np.sqrt(sample_size))\n",
    "    conf_inv = (sample_mean - interval, sample_mean + interval)\n",
    "    return conf_inv"
   ]
  },
  {
   "cell_type": "code",
   "execution_count": 10,
   "metadata": {},
   "outputs": [
    {
     "name": "stdout",
     "output_type": "stream",
     "text": [
      "conf interval for 2000 sample size: (1.7198272785643671, 2.157624706681085)\n"
     ]
    }
   ],
   "source": [
    "np.random.seed(5)\n",
    "sample_size = 2000\n",
    "sample = np.random.choice(a = population, size = sample_size)\n",
    "\n",
    "ci = comp_ci(sample, st_dev) # get confidence interval for other sample\n",
    "\n",
    "print('conf interval for 2000 sample size:', ci)"
   ]
  },
  {
   "cell_type": "markdown",
   "metadata": {},
   "source": [
    "### Student's distribution (variance is unknown)"
   ]
  },
  {
   "cell_type": "code",
   "execution_count": 11,
   "metadata": {},
   "outputs": [],
   "source": [
    "def compute_ci_t(sample, alpha = 0.95):\n",
    "    \n",
    "    n = sample.shape[0]\n",
    "    mu, se = np.mean(sample), stats.sem(sample)\n",
    "    bound = se * stats.t.ppf((1 + alpha)/2., n-1)\n",
    "    \n",
    "    return mu - bound, mu + bound"
   ]
  },
  {
   "cell_type": "code",
   "execution_count": 12,
   "metadata": {},
   "outputs": [
    {
     "name": "stdout",
     "output_type": "stream",
     "text": [
      "conf interval with t test for 2000 sample size: (-0.6968230098681322, 2.5538371493474674)\n"
     ]
    }
   ],
   "source": [
    "sample = np.random.choice(a = population, size = 30)\n",
    "ci_t = compute_ci_t(sample, alpha = 0.95)\n",
    "print('conf interval with t test for 2000 sample size:', ci_t)"
   ]
  }
 ],
 "metadata": {
  "kernelspec": {
   "display_name": "Python 3",
   "language": "python",
   "name": "python3"
  },
  "language_info": {
   "codemirror_mode": {
    "name": "ipython",
    "version": 3
   },
   "file_extension": ".py",
   "mimetype": "text/x-python",
   "name": "python",
   "nbconvert_exporter": "python",
   "pygments_lexer": "ipython3",
   "version": "3.7.3"
  }
 },
 "nbformat": 4,
 "nbformat_minor": 2
}

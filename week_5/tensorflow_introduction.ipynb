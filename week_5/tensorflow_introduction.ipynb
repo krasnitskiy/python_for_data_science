{
 "cells": [
  {
   "cell_type": "code",
   "execution_count": 1,
   "metadata": {},
   "outputs": [],
   "source": [
    "import tensorflow as tf"
   ]
  },
  {
   "cell_type": "code",
   "execution_count": 2,
   "metadata": {},
   "outputs": [
    {
     "name": "stdout",
     "output_type": "stream",
     "text": [
      "b'Hello world!'\n"
     ]
    }
   ],
   "source": [
    "with tf.compat.v1.Session() as sess:\n",
    "    hello = tf.constant('Hello world!')\n",
    "    print(sess.run(hello))"
   ]
  },
  {
   "cell_type": "code",
   "execution_count": 3,
   "metadata": {},
   "outputs": [],
   "source": [
    "a = tf.constant(2)\n",
    "b = tf.constant(3)\n",
    "\n",
    "c = tf.constant([1, 2, 3, 4])\n",
    "d = tf.constant([2, 3, 4, 5])"
   ]
  },
  {
   "cell_type": "code",
   "execution_count": 4,
   "metadata": {},
   "outputs": [
    {
     "name": "stdout",
     "output_type": "stream",
     "text": [
      "a = 2, b = 3, c = [1 2 3 4], d = [2 3 4 5]\n",
      "\n",
      "a + b = 5\n",
      "a * b = 6\n",
      "c + d = [3 5 7 9]\n",
      "c * d = [ 2  6 12 20]\n"
     ]
    }
   ],
   "source": [
    "with tf.compat.v1.Session() as sess:\n",
    "    a = tf.constant(2)\n",
    "    b = tf.constant(3)\n",
    "    c = tf.constant([1, 2, 3, 4])\n",
    "    d = tf.constant([2, 3, 4, 5])\n",
    "    print('a = {}, b = {}, c = {}, d = {}\\n'.format(sess.run(a), sess.run(b), sess.run(c), sess.run(d)))\n",
    "    \n",
    "    print('a + b = {}\\n'\n",
    "          'a * b = {}'.format(sess.run(a + b), sess.run(a * b)))\n",
    "    \n",
    "    print('c + d = {}\\n'\n",
    "          'c * d = {}'.format(sess.run(c + d), sess.run(c * d)))"
   ]
  },
  {
   "cell_type": "code",
   "execution_count": 5,
   "metadata": {},
   "outputs": [
    {
     "name": "stdout",
     "output_type": "stream",
     "text": [
      "a + b = 4\n",
      "a * b = 56\n"
     ]
    }
   ],
   "source": [
    "with tf.compat.v1.Session() as sess:\n",
    "    a = tf.compat.v1.placeholder(tf.int16)\n",
    "    b = tf.compat.v1.placeholder(tf.int16)\n",
    "\n",
    "    add = tf.add(a, b)\n",
    "    mul = tf.multiply(a, b)\n",
    "    \n",
    "    writer = tf.compat.v1.summary.FileWriter('logs', sess.graph)\n",
    "    \n",
    "    print('a + b = {}'.format(sess.run(add, feed_dict={a: 3, b: 1})))\n",
    "    print('a * b = {}'.format(sess.run(mul, feed_dict={a: 7, b: 8})))"
   ]
  },
  {
   "cell_type": "code",
   "execution_count": 6,
   "metadata": {},
   "outputs": [],
   "source": [
    "import matplotlib.pyplot as plt\n",
    "import numpy as np\n",
    "\n",
    "%matplotlib inline"
   ]
  },
  {
   "cell_type": "code",
   "execution_count": 7,
   "metadata": {},
   "outputs": [],
   "source": [
    "from sklearn.datasets import make_regression\n",
    "\n",
    "n_samples = 42\n",
    "\n",
    "x_train, y_train = make_regression(n_samples=n_samples, n_features=1, noise=15, random_state=7)\n",
    "x_train = (x_train - x_train.mean())/x_train.std()\n",
    "y_train = (y_train - y_train.mean())/y_train.std()"
   ]
  },
  {
   "cell_type": "code",
   "execution_count": 8,
   "metadata": {},
   "outputs": [
    {
     "name": "stdout",
     "output_type": "stream",
     "text": [
      "[[ 0.03264883]\n",
      " [ 2.00453732]\n",
      " [-0.09529635]\n",
      " [-0.29220736]\n",
      " [ 0.19354651]]\n"
     ]
    }
   ],
   "source": [
    "print(x_train[:5])"
   ]
  },
  {
   "cell_type": "code",
   "execution_count": 9,
   "metadata": {},
   "outputs": [
    {
     "name": "stdout",
     "output_type": "stream",
     "text": [
      "WARNING:tensorflow:From /Users/nvkrasnitskiy/opt/anaconda3/lib/python3.7/site-packages/tensorflow_core/python/ops/resource_variable_ops.py:1630: calling BaseResourceVariable.__init__ (from tensorflow.python.ops.resource_variable_ops) with constraint is deprecated and will be removed in a future version.\n",
      "Instructions for updating:\n",
      "If using Keras pass *_constraint arguments to layers.\n",
      "Epoch #0: cost = 44.78180694580078\n",
      "Epoch #100: cost = 67.63247680664062\n",
      "Epoch #200: cost = 67.4620361328125\n",
      "Epoch #300: cost = 67.38157653808594\n",
      "Epoch #400: cost = 67.34589385986328\n",
      "Epoch #500: cost = 67.32942962646484\n",
      "Epoch #600: cost = 67.32154083251953\n",
      "Epoch #700: cost = 67.31766510009766\n",
      "Epoch #800: cost = 67.31455993652344\n",
      "Epoch #900: cost = 67.31415557861328\n"
     ]
    },
    {
     "data": {
      "image/png": "[encoded data removed]",
      "text/plain": [
       "<Figure size 432x288 with 1 Axes>"
      ]
     },
     "metadata": {
      "needs_background": "light"
     },
     "output_type": "display_data"
    }
   ],
   "source": [
    "with tf.compat.v1.Session() as sess:\n",
    "    X = tf.compat.v1.placeholder('float')\n",
    "    Y = tf.compat.v1.placeholder('float')\n",
    "\n",
    "    W = tf.compat.v1.Variable(np.random.randn(), name = 'weight')\n",
    "    b = tf.compat.v1.Variable(np.random.randn(), name = 'bias')\n",
    "    \n",
    "    prediction = tf.compat.v1.add(tf.multiply(X, W), b)\n",
    "    learning_rate = tf.compat.v1.placeholder(tf.float32, shape=[])\n",
    "    cost = tf.compat.v1.reduce_sum(tf.pow(prediction - Y, 2)) / n_samples\n",
    "    optimizer = tf.compat.v1.train.GradientDescentOptimizer(learning_rate).minimize(cost)\n",
    "    \n",
    "    init = tf.compat.v1.global_variables_initializer()\n",
    "    \n",
    "    epochs = 1000\n",
    "    sess.run(init)\n",
    "    \n",
    "    lr = 0.1\n",
    "    for epoch in range(epochs):\n",
    "        for(x_batch, y_batch) in zip(x_train, y_train):\n",
    "            sess.run(optimizer, feed_dict={X: x_batch, Y: y_batch, learning_rate: lr})\n",
    "            \n",
    "        if epoch % 100 == 0:\n",
    "            lr /= 2\n",
    "            c = sess.run(cost, feed_dict={X: x_train, Y: y_train})\n",
    "            print('Epoch #{}: cost = {}'.format(epoch, c))\n",
    "            \n",
    "    plt.plot(x_train, y_train, 'ro', label = 'Original data')\n",
    "    plt.plot(x_train, sess.run(W) * x_train + sess.run(b), label = 'Fitted line')\n",
    "    plt.legend\n",
    "    plt.show()"
   ]
  }
 ],
 "metadata": {
  "kernelspec": {
   "display_name": "Python 3",
   "language": "python",
   "name": "python3"
  },
  "language_info": {
   "codemirror_mode": {
    "name": "ipython",
    "version": 3
   },
   "file_extension": ".py",
   "mimetype": "text/x-python",
   "name": "python",
   "nbconvert_exporter": "python",
   "pygments_lexer": "ipython3",
   "version": "3.7.6"
  }
 },
 "nbformat": 4,
 "nbformat_minor": 4
}
